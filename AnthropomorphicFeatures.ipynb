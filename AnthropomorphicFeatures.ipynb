{
 "cells": [
  {
   "cell_type": "code",
   "execution_count": null,
   "metadata": {
    "collapsed": false,
    "scrolled": false
   },
   "outputs": [],
   "source": [
    "%matplotlib auto"
   ]
  },
  {
   "cell_type": "code",
   "execution_count": null,
   "metadata": {
    "collapsed": true
   },
   "outputs": [],
   "source": [
    "import cv2\n",
    "import matplotlib.pyplot as plt\n",
    "import numpy as np\n",
    "import matplotlib\n",
    "from ipywidgets import interact, interactive, fixed, interact_manual\n",
    "import ipywidgets as widgets"
   ]
  },
  {
   "cell_type": "code",
   "execution_count": null,
   "metadata": {
    "collapsed": false
   },
   "outputs": [],
   "source": [
    "matplotlib.interactive(True)"
   ]
  },
  {
   "cell_type": "code",
   "execution_count": null,
   "metadata": {
    "collapsed": true
   },
   "outputs": [],
   "source": [
    "anthropometry = [0 for i in range(17)]"
   ]
  },
  {
   "cell_type": "code",
   "execution_count": null,
   "metadata": {
    "collapsed": true
   },
   "outputs": [],
   "source": [
    "# AMF: TODO: I had updated these to change the picker input window's title with the instruction on what to pick next,\n",
    "#               but I didn't save it.\n",
    "\n",
    "def get_morphed_image(img):\n",
    "    # Four corners of the book in source image\n",
    "    plt.figure(figsize=(10,10), frameon=False)\n",
    "    plt.subplots_adjust(left=0, bottom=0, right=1, top=1, wspace=0, hspace=0)\n",
    "    plt.imshow(img)\n",
    "    print(\"Please click\")\n",
    "    points = plt.ginput(4, show_clicks=True)\n",
    "    print(\"clicked\", points)\n",
    "    plt.close('all')\n",
    "    \n",
    "    points = np.array(points)\n",
    "    points_new = np.array([(points[0][0], points[0][1]), (points[0][0]+850, points[0][1]), \n",
    "                                 (points[0][0]+850, points[0][1]+1100), (points[0][0], points[0][1]+1100)])\n",
    "    print(points_new)\n",
    "    \n",
    "    # Calculate Homography\n",
    "    h, status = cv2.findHomography(points, points_new)\n",
    "    \n",
    "    # Warp source image to destination based on homography\n",
    "    im_out = cv2.warpPerspective(img, h, (img.shape[1], img.shape[0]))\n",
    "    \n",
    "    return im_out\n",
    "\n",
    "def get_measurement(morphed_img):\n",
    "    plt.figure(figsize=(10,10), frameon=False)\n",
    "    plt.subplots_adjust(left=0, bottom=0, right=1, top=1, wspace=0, hspace=0)\n",
    "    plt.imshow(morphed_img)\n",
    "    print(\"Please click\")\n",
    "    dist = plt.ginput(2)\n",
    "    print(\"clicked\", dist)\n",
    "    plt.close('all')\n",
    "\n",
    "    distance = np.sqrt(np.sum((np.array(dist)[0] - np.array(dist)[1])**2))*2.54/100\n",
    "    print(distance, 'cm')\n",
    "\n",
    "    return distance\n",
    "\n",
    "def get_measurement_center(center, morphed_img):\n",
    "    plt.figure(figsize=(10,10), frameon=False)\n",
    "    plt.subplots_adjust(left=0, bottom=0, right=1, top=1, wspace=0, hspace=0)\n",
    "    plt.plot(center[0], center[1], 'bo')\n",
    "    plt.imshow(morphed_img)\n",
    "    print(\"Please click\")\n",
    "    dist = plt.ginput(1)\n",
    "    print(\"clicked\", dist)\n",
    "    plt.close('all')\n",
    "\n",
    "    distance = np.sqrt(np.sum((np.array(dist)[0] - center)**2))*2.54/100\n",
    "    print(distance, 'cm')\n",
    "\n",
    "    return distance"
   ]
  },
  {
   "cell_type": "markdown",
   "metadata": {},
   "source": [
    "# Flatten out Image"
   ]
  },
  {
   "cell_type": "code",
   "execution_count": null,
   "metadata": {
    "collapsed": false
   },
   "outputs": [],
   "source": [
    "# Read source image.\n",
    "im_front = plt.imread('images/front.jpg')\n",
    "im_side = plt.imread('images/side.jpg')"
   ]
  },
  {
   "cell_type": "code",
   "execution_count": null,
   "metadata": {
    "collapsed": false
   },
   "outputs": [],
   "source": [
    "im_front_warped = get_morphed_image(im_front)"
   ]
  },
  {
   "cell_type": "code",
   "execution_count": null,
   "metadata": {
    "collapsed": false
   },
   "outputs": [],
   "source": [
    "%matplotlib inline\n",
    "plt.imshow(im_front_warped)\n",
    "plt.show()"
   ]
  },
  {
   "cell_type": "code",
   "execution_count": null,
   "metadata": {
    "collapsed": false
   },
   "outputs": [],
   "source": [
    "%matplotlib auto\n",
    "im_side_warped = get_morphed_image(im_side)"
   ]
  },
  {
   "cell_type": "code",
   "execution_count": null,
   "metadata": {
    "collapsed": false
   },
   "outputs": [],
   "source": [
    "%matplotlib inline\n",
    "plt.imshow(im_side_warped)\n",
    "plt.show()"
   ]
  },
  {
   "cell_type": "markdown",
   "metadata": {},
   "source": [
    "# Get Measurements"
   ]
  },
  {
   "cell_type": "markdown",
   "metadata": {},
   "source": [
    "## Get center of head"
   ]
  },
  {
   "cell_type": "code",
   "execution_count": null,
   "metadata": {
    "collapsed": false
   },
   "outputs": [],
   "source": [
    "%matplotlib auto"
   ]
  },
  {
   "cell_type": "code",
   "execution_count": null,
   "metadata": {
    "collapsed": false
   },
   "outputs": [],
   "source": [
    "plt.figure(figsize=(10,10), frameon=False)\n",
    "plt.subplots_adjust(left=0, bottom=0, right=1, top=1, wspace=0, hspace=0)\n",
    "plt.imshow(im_side_warped)\n",
    "print(\"Please click\")\n",
    "center = plt.ginput(1)[0]\n",
    "print(\"clicked\", center)\n",
    "plt.close('all')"
   ]
  },
  {
   "cell_type": "markdown",
   "metadata": {},
   "source": [
    "## x1 head width"
   ]
  },
  {
   "cell_type": "code",
   "execution_count": null,
   "metadata": {
    "collapsed": false
   },
   "outputs": [],
   "source": [
    "anthropometry[0] = get_measurement(im_front_warped)"
   ]
  },
  {
   "cell_type": "markdown",
   "metadata": {},
   "source": [
    "## x2 head height"
   ]
  },
  {
   "cell_type": "code",
   "execution_count": null,
   "metadata": {
    "collapsed": false
   },
   "outputs": [],
   "source": [
    "anthropometry[1] = get_measurement(im_side_warped)"
   ]
  },
  {
   "cell_type": "markdown",
   "metadata": {},
   "source": [
    "## x3 head depth"
   ]
  },
  {
   "cell_type": "code",
   "execution_count": null,
   "metadata": {
    "collapsed": false
   },
   "outputs": [],
   "source": [
    "anthropometry[2] = get_measurement(im_side_warped)"
   ]
  },
  {
   "cell_type": "markdown",
   "metadata": {},
   "source": [
    "## x4 pinna offset down"
   ]
  },
  {
   "cell_type": "code",
   "execution_count": null,
   "metadata": {
    "collapsed": false
   },
   "outputs": [],
   "source": [
    "anthropometry[3] = get_measurement_center(center, im_side_warped)"
   ]
  },
  {
   "cell_type": "markdown",
   "metadata": {},
   "source": [
    "## x5 pinna offset back"
   ]
  },
  {
   "cell_type": "code",
   "execution_count": null,
   "metadata": {
    "collapsed": false
   },
   "outputs": [],
   "source": [
    "anthropometry[4] = get_measurement_center(center, im_side_warped)"
   ]
  },
  {
   "cell_type": "markdown",
   "metadata": {},
   "source": [
    "## x6 neck width"
   ]
  },
  {
   "cell_type": "code",
   "execution_count": null,
   "metadata": {
    "collapsed": false
   },
   "outputs": [],
   "source": [
    "anthropometry[5] = get_measurement(im_front_warped)"
   ]
  },
  {
   "cell_type": "markdown",
   "metadata": {},
   "source": [
    "## x7 neck height"
   ]
  },
  {
   "cell_type": "code",
   "execution_count": null,
   "metadata": {
    "collapsed": false
   },
   "outputs": [],
   "source": [
    "anthropometry[6] = get_measurement(im_side_warped)"
   ]
  },
  {
   "cell_type": "markdown",
   "metadata": {},
   "source": [
    "## x8 neck depth"
   ]
  },
  {
   "cell_type": "code",
   "execution_count": null,
   "metadata": {
    "collapsed": false
   },
   "outputs": [],
   "source": [
    "anthropometry[7] = get_measurement(im_side_warped)"
   ]
  },
  {
   "cell_type": "markdown",
   "metadata": {},
   "source": [
    "## x9 torso top width"
   ]
  },
  {
   "cell_type": "code",
   "execution_count": null,
   "metadata": {
    "collapsed": false
   },
   "outputs": [],
   "source": [
    "anthropometry[8] = get_measurement(im_front_warped)"
   ]
  },
  {
   "cell_type": "markdown",
   "metadata": {},
   "source": [
    "## x10 torso top height"
   ]
  },
  {
   "cell_type": "code",
   "execution_count": null,
   "metadata": {
    "collapsed": false
   },
   "outputs": [],
   "source": [
    "anthropometry[9] = get_measurement(im_side_warped)"
   ]
  },
  {
   "cell_type": "markdown",
   "metadata": {},
   "source": [
    "## x11 torso top depth"
   ]
  },
  {
   "cell_type": "code",
   "execution_count": null,
   "metadata": {
    "collapsed": false
   },
   "outputs": [],
   "source": [
    "anthropometry[10] = get_measurement(im_side_warped)"
   ]
  },
  {
   "cell_type": "markdown",
   "metadata": {},
   "source": [
    "## x12 shoulder width"
   ]
  },
  {
   "cell_type": "code",
   "execution_count": null,
   "metadata": {
    "collapsed": false
   },
   "outputs": [],
   "source": [
    "anthropometry[11] = get_measurement(im_front_warped)"
   ]
  },
  {
   "cell_type": "markdown",
   "metadata": {},
   "source": [
    "## x13 head offset forward"
   ]
  },
  {
   "cell_type": "code",
   "execution_count": null,
   "metadata": {
    "collapsed": false
   },
   "outputs": [],
   "source": [
    "anthropometry[12] = get_measurement_center(center, im_side_warped)"
   ]
  },
  {
   "cell_type": "markdown",
   "metadata": {},
   "source": [
    "## x14 height in Inches"
   ]
  },
  {
   "cell_type": "code",
   "execution_count": null,
   "metadata": {
    "collapsed": false
   },
   "outputs": [],
   "source": [
    "def f(x):\n",
    "    anthropometry[13]= x * 12 * 2.54\n",
    "    print(anthropometry[13] / 12 / 2.54, 'ft')\n",
    "interact(f, x=(0.0,10.0,1/12));\n",
    "# anthropometry[13] = get_measurement(im_side_warped)"
   ]
  },
  {
   "cell_type": "markdown",
   "metadata": {},
   "source": [
    "## x15 seated height"
   ]
  },
  {
   "cell_type": "code",
   "execution_count": null,
   "metadata": {
    "collapsed": false
   },
   "outputs": [],
   "source": [
    "# AMF: IIRC these might crash the system. You can just take the measurements yourself (in centimeters) and enter them in the FinalHRTFCNN notebook with the other measurements.\n",
    "\n",
    "# def f(x):\n",
    "#     anthropometry[13]= x * 12 * 2.54\n",
    "#     print(anthropometry[13] / 12 / 2.54, 'ft')\n",
    "# interact(f, x=(0.0,10.0,1/12));\n",
    "# # anthropometry[13] = get_measurement(im_side_warped)"
   ]
  },
  {
   "cell_type": "markdown",
   "metadata": {},
   "source": [
    "## x16 head circumference"
   ]
  },
  {
   "cell_type": "code",
   "execution_count": null,
   "metadata": {
    "collapsed": false
   },
   "outputs": [],
   "source": [
    "# def f(x):\n",
    "#     anthropometry[14]= x * 12 * 2.54\n",
    "#     print(anthropometry[13] / 12 / 2.54, 'ft')\n",
    "# interact(f, x=(0.0,10.0,1/12));\n",
    "# # anthropometry[13] = get_measurement(im_side_warped)"
   ]
  },
  {
   "cell_type": "markdown",
   "metadata": {},
   "source": [
    "## x17 shoulder circumference"
   ]
  },
  {
   "cell_type": "code",
   "execution_count": null,
   "metadata": {
    "collapsed": false
   },
   "outputs": [],
   "source": [
    "# def f(x):\n",
    "#     anthropometry[15]= x * 12 * 2.54\n",
    "#     print(anthropometry[13] / 12 / 2.54, 'ft')\n",
    "# interact(f, x=(0.0,10.0,1/12));\n",
    "# # anthropometry[13] = get_measurement(im_side_warped)"
   ]
  }
 ],
 "metadata": {
  "kernelspec": {
   "display_name": "Python 3",
   "language": "python",
   "name": "python3"
  },
  "language_info": {
   "codemirror_mode": {
    "name": "ipython",
    "version": 3
   },
   "file_extension": ".py",
   "mimetype": "text/x-python",
   "name": "python",
   "nbconvert_exporter": "python",
   "pygments_lexer": "ipython3",
   "version": "3.8.9 (default, May 17 2022, 12:55:41) \n[Clang 13.1.6 (clang-1316.0.21.2.5)]"
  },
  "vscode": {
   "interpreter": {
    "hash": "31f2aee4e71d21fbe5cf8b01ff0e069b9275f58929596ceb00d14d90e3e16cd6"
   }
  }
 },
 "nbformat": 4,
 "nbformat_minor": 0
}
