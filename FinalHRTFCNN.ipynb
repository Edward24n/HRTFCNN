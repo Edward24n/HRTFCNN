{
  "cells": [
    {
      "cell_type": "markdown",
      "metadata": {
        "colab_type": "text",
        "id": "raR-9dV9gZEQ"
      },
      "source": [
        "## Download Files"
      ]
    },
    {
      "cell_type": "code",
      "execution_count": null,
      "metadata": {
        "colab": {
          "base_uri": "https://localhost:8080/",
          "height": 51
        },
        "colab_type": "code",
        "id": "RMMgdv9gdzzY",
        "outputId": "0bee59de-8344-478b-88f9-91f812c6dd37"
      },
      "outputs": [],
      "source": [
        "!rm -rf HRTFCNN\n",
        "!rm -rf data/cipic_hrtf_sofa\n",
        "!rm ear.zip\n",
        "!rm pinnas.zip\n",
        "!rm -rf binural-updates\n",
        "!rm -rf CIPIC_hrtf_database"
      ]
    },
    {
      "cell_type": "code",
      "execution_count": null,
      "metadata": {
        "colab": {
          "base_uri": "https://localhost:8080/",
          "height": 68
        },
        "colab_type": "code",
        "id": "bAid5tqDdx8E",
        "outputId": "bb78b967-b654-43de-da2e-80257a90f06d"
      },
      "outputs": [],
      "source": [
        "!pip install h5py\n",
        "!pip install sofar\n",
        "!pip install packaging"
      ]
    },
    {
      "cell_type": "code",
      "execution_count": null,
      "metadata": {
        "colab": {
          "base_uri": "https://localhost:8080/",
          "height": 34
        },
        "colab_type": "code",
        "id": "giq5EZZmf7XA",
        "outputId": "804e34f5-f6f7-47a0-930e-2f9073d5088a"
      },
      "outputs": [],
      "source": [
        "%cd /content/"
      ]
    },
    {
      "cell_type": "code",
      "execution_count": null,
      "metadata": {
        "colab": {
          "base_uri": "https://localhost:8080/",
          "height": 119
        },
        "colab_type": "code",
        "id": "HjglBcrFa5ck",
        "outputId": "a4aa7579-e5c4-4a97-933a-ddc63054894b"
      },
      "outputs": [],
      "source": [
        "!git clone https://github.com/docEdub/HRTFCNN.git"
      ]
    },
    {
      "cell_type": "code",
      "execution_count": null,
      "metadata": {
        "colab": {
          "base_uri": "https://localhost:8080/",
          "height": 34
        },
        "colab_type": "code",
        "id": "dToI3YW4eJJn",
        "outputId": "1b796b6a-c714-4bf0-f074-747a8f1179a8"
      },
      "outputs": [],
      "source": [
        "%cd HRTFCNN"
      ]
    },
    {
      "cell_type": "code",
      "execution_count": null,
      "metadata": {
        "colab": {
          "base_uri": "https://localhost:8080/",
          "height": 68
        },
        "colab_type": "code",
        "id": "sYjo1Ia5f3Nq",
        "outputId": "c952a690-0fa9-40d3-cdc0-ecb3b4e9f6af"
      },
      "outputs": [],
      "source": [
        "!git pull origin master"
      ]
    },
    {
      "cell_type": "code",
      "execution_count": null,
      "metadata": {
        "colab": {
          "base_uri": "https://localhost:8080/",
          "height": 51
        },
        "colab_type": "code",
        "id": "FeC9fV-xeZE9",
        "outputId": "78869acc-e70f-47c3-e690-db0a3a8e6663"
      },
      "outputs": [],
      "source": [
        "!ls"
      ]
    },
    {
      "cell_type": "code",
      "execution_count": null,
      "metadata": {
        "colab": {
          "base_uri": "https://localhost:8080/",
          "height": 8772
        },
        "colab_type": "code",
        "id": "MrjM8-Lmdt7C",
        "outputId": "e73e9ffe-2e83-4f7a-c503-4c5b2ea669e3"
      },
      "outputs": [],
      "source": [
        "!wget -r -l1 -w 1 --no-parent http://sofacoustics.org/data/database/cipic/"
      ]
    },
    {
      "cell_type": "code",
      "execution_count": null,
      "metadata": {
        "colab": {
          "base_uri": "https://localhost:8080/",
          "height": 34
        },
        "colab_type": "code",
        "id": "KFHbitr2d2l2",
        "outputId": "9859c093-17a6-43f2-c967-fcb11411c019"
      },
      "outputs": [],
      "source": [
        "!mkdir data/cipic_hrtf_sofa\n",
        "!mv sofacoustics.org/data/database/cipic/*.sofa data/cipic_hrtf_sofa\n",
        "!ls data/cipic_hrtf_sofa | wc -l"
      ]
    },
    {
      "cell_type": "code",
      "execution_count": null,
      "metadata": {
        "colab": {
          "base_uri": "https://localhost:8080/",
          "height": 51
        },
        "colab_type": "code",
        "id": "of5ptSvnfFjr",
        "outputId": "faa206d6-ee9a-45f5-8eaf-26f1ab1d71c8"
      },
      "outputs": [],
      "source": [
        "!pip install -U -q PyDrive\n",
        "\n",
        "from pydrive.auth import GoogleAuth\n",
        "from pydrive.drive import GoogleDrive\n",
        "from google.colab import auth\n",
        "from oauth2client.client import GoogleCredentials\n",
        "\n",
        "# 1. Authenticate and create the PyDrive client.\n",
        "auth.authenticate_user()\n",
        "gauth = GoogleAuth()\n",
        "gauth.credentials = GoogleCredentials.get_application_default()\n",
        "drive = GoogleDrive(gauth)\n",
        "\n",
        "                          \n",
        "# 3. Load a file by ID and print its contents.\n",
        "downloaded = drive.CreateFile({'id': '1a6LihoO2agENYDM6qdpL9tqUa4yQBHTn'})\n",
        "print('Downloaded pinnas \"{}\"'.format(downloaded.GetContentFile('pinnas.zip')))\n",
        "\n",
        "downloaded = drive.CreateFile({'id': '1rJT5NgX_OoI_5_fFxQmjGvxo6ZgFSvN_'})\n",
        "print('Downloaded images \"{}\"'.format(downloaded.GetContentFile('ear.zip')))"
      ]
    },
    {
      "cell_type": "code",
      "execution_count": null,
      "metadata": {
        "colab": {
          "base_uri": "https://localhost:8080/",
          "height": 5746
        },
        "colab_type": "code",
        "id": "HWF1Aad5fU45",
        "outputId": "2e7fb16b-4973-4ba0-bf03-4eb3e6277697"
      },
      "outputs": [],
      "source": [
        "!unzip pinnas.zip\n",
        "!unzip ear.zip\n",
        "!mv CIPIC_hrtf_database data\n",
        "!mv binural-updates/ear_photos data"
      ]
    },
    {
      "cell_type": "code",
      "execution_count": null,
      "metadata": {
        "colab": {
          "base_uri": "https://localhost:8080/",
          "height": 34
        },
        "colab_type": "code",
        "id": "kjKm43sfgnP_",
        "outputId": "c748c8fb-52b0-46c1-847e-e30fea353dcf"
      },
      "outputs": [],
      "source": [
        "!ls utils"
      ]
    },
    {
      "cell_type": "markdown",
      "metadata": {
        "colab_type": "text",
        "id": "TSJOo9GUgQiO"
      },
      "source": [
        "##Load Data"
      ]
    },
    {
      "cell_type": "code",
      "execution_count": null,
      "metadata": {
        "colab": {},
        "colab_type": "code",
        "id": "uaLeg-2HdM5m"
      },
      "outputs": [],
      "source": [
        "import os\n",
        "import sys\n",
        "import scipy.io\n",
        "import scipy.signal\n",
        "import logging\n",
        "import numpy as np\n",
        "import matplotlib.pyplot as plt\n",
        "import cv2\n",
        "from utils.hrtf import *\n",
        "from utils.image_utils import *"
      ]
    },
    {
      "cell_type": "code",
      "execution_count": null,
      "metadata": {
        "colab": {},
        "colab_type": "code",
        "id": "3GR4zQqMdOWM"
      },
      "outputs": [],
      "source": [
        "hrtf = CipicHRTF('data/cipic_hrtf_sofa/subject_003.sofa', 44100.0)"
      ]
    },
    {
      "cell_type": "code",
      "execution_count": null,
      "metadata": {
        "colab": {
          "base_uri": "https://localhost:8080/",
          "height": 34
        },
        "colab_type": "code",
        "id": "Y3l4CL4hdoXE",
        "outputId": "1750c257-8e35-47ed-b7a1-d338a5814966"
      },
      "outputs": [],
      "source": [
        "print(hrtf.azimuths)"
      ]
    },
    {
      "cell_type": "code",
      "execution_count": null,
      "metadata": {
        "colab": {},
        "colab_type": "code",
        "id": "uqYnoEK3g-Ri"
      },
      "outputs": [],
      "source": [
        "# get pinnas\n",
        "pinnas = np.array(scipy.io.loadmat('./data/CIPIC_hrtf_database/anthropometry/anthro.mat')['X'])"
      ]
    },
    {
      "cell_type": "code",
      "execution_count": null,
      "metadata": {
        "colab": {},
        "colab_type": "code",
        "id": "dGQBxMyTnCEG"
      },
      "outputs": [],
      "source": [
        "def get_image(folder, num):\n",
        "    num_str = str(num)\n",
        "    if num < 100:\n",
        "        num_str = '0' + num_str\n",
        "    if num < 10:\n",
        "        num_str = '0' + num_str\n",
        "    num = num_str\n",
        "    try:\n",
        "        return plt.imread(folder+ 'Subject_'+str(num)+'/'+str(num)+'_left_side.jpg'), 0\n",
        "    except:\n",
        "        try:\n",
        "            return plt.imread(folder+ 'Subject_'+str(num)+'/'+str(num)+'_right_side.jpg'), 1\n",
        "        except:\n",
        "            try:\n",
        "                return plt.imread(folder+ 'Subject_'+str(num)+'/0'+str(num)+'_left.jpg'), 0\n",
        "            except:\n",
        "                try:\n",
        "                    return plt.imread(folder+ 'Subject_'+str(num)+'/0'+str(num)+'_right.jpg'), 1\n",
        "                except:\n",
        "                    try:\n",
        "                        return plt.imread(folder+ 'Subject_'+str(num)+'/0'+str(num)+'_left.JPG'), 0\n",
        "                    except:\n",
        "                        try:\n",
        "                            return plt.imread(folder+ 'Subject_'+str(num)+'/0'+str(num)+'_right.JPG'), 1\n",
        "                        except:\n",
        "                            try:\n",
        "                                return plt.imread(folder+ 'Subject_'+str(num)+'/Subject_'+str(num)+'_left_side.jpg'), 0\n",
        "                            except:\n",
        "                                try:\n",
        "                                    return plt.imread(folder+ 'Subject_'+str(num)+'/0'+str(num)+'_left_2.jpg'), 0\n",
        "                                except:\n",
        "                                    return plt.imread(folder+ 'Subject_'+str(num)+'/00'+str(58)+'_left.jpg'), 0"
      ]
    },
    {
      "cell_type": "code",
      "execution_count": null,
      "metadata": {
        "colab": {
          "base_uri": "https://localhost:8080/",
          "height": 153
        },
        "colab_type": "code",
        "id": "Gh4oRuT9e4bM",
        "outputId": "deae8bbe-9bb9-4ac5-c102-2c9e00587ba8"
      },
      "outputs": [],
      "source": [
        "valid_ranges = []\n",
        "valid_images = []\n",
        "valid_final = []\n",
        "valid_image_ranges = []\n",
        "for i in range(200):\n",
        "    try:\n",
        "        get_hrtf_sofa('data/cipic_hrtf_sofa/', i)\n",
        "        valid_ranges.append(i)\n",
        "        try:\n",
        "            img, ear_num = get_image('data/ear_photos/', i)\n",
        "            valid_images.append(img)\n",
        "            valid_image_ranges.append((i, ear_num))\n",
        "        except FileNotFoundError as err:\n",
        "            print(err)\n",
        "            print('Image not Found', i)\n",
        "            valid_images.append(None)\n",
        "            valid_image_ranges.append(None)\n",
        "    except:\n",
        "        pass\n",
        "#         print('Failed to load sofa', i)\n",
        "valid_image_ranges = np.array(valid_image_ranges)"
      ]
    },
    {
      "cell_type": "code",
      "execution_count": null,
      "metadata": {
        "colab": {
          "base_uri": "https://localhost:8080/",
          "height": 85
        },
        "colab_type": "code",
        "id": "rSHnXrXYhHIg",
        "outputId": "fa5f5219-c4fa-4f5f-e78f-30d10bf7880b"
      },
      "outputs": [],
      "source": [
        "pinna_vals = [pinnas[i] for i, val in enumerate(valid_ranges)]\n",
        "print(len(valid_ranges))\n",
        "print(len(pinna_vals))\n",
        "print(len(valid_images))\n",
        "print(len(valid_image_ranges))"
      ]
    },
    {
      "cell_type": "code",
      "execution_count": null,
      "metadata": {
        "colab": {
          "base_uri": "https://localhost:8080/",
          "height": 102
        },
        "colab_type": "code",
        "id": "ZG6kzKh7jIeu",
        "outputId": "14bf928c-6111-46d4-8da1-63aec62cf186"
      },
      "outputs": [],
      "source": [
        "print(valid_image_ranges)"
      ]
    },
    {
      "cell_type": "code",
      "execution_count": null,
      "metadata": {
        "colab": {},
        "colab_type": "code",
        "id": "dRH-VEp9h7yc"
      },
      "outputs": [],
      "source": [
        "valid_final = np.array(valid_ranges)[~np.isnan(pinna_vals).any(axis=1)]\n",
        "valid_images = np.array(valid_images)[~np.isnan(pinna_vals).any(axis=1)]\n",
        "valid_image_ranges = np.array(valid_image_ranges)[~np.isnan(pinna_vals).any(axis=1)]\n",
        "pinna_vals = np.array(pinna_vals)[~np.isnan(pinna_vals).any(axis=1)]"
      ]
    },
    {
      "cell_type": "code",
      "execution_count": null,
      "metadata": {
        "colab": {
          "base_uri": "https://localhost:8080/",
          "height": 85
        },
        "colab_type": "code",
        "id": "R1Ftyu9ViAl0",
        "outputId": "1af44332-7431-4b7d-e098-dc32a907954d"
      },
      "outputs": [],
      "source": [
        "print(len(valid_final))\n",
        "print(len(valid_images))\n",
        "print(len(valid_image_ranges))\n",
        "print(len(pinna_vals))"
      ]
    },
    {
      "cell_type": "code",
      "execution_count": null,
      "metadata": {
        "colab": {
          "base_uri": "https://localhost:8080/",
          "height": 119
        },
        "colab_type": "code",
        "id": "GV8qhQKVi_Ea",
        "outputId": "34e3e594-63ec-4e7a-99a2-cffa524c997e"
      },
      "outputs": [],
      "source": [
        "print(valid_final)\n",
        "print(valid_image_ranges)"
      ]
    },
    {
      "cell_type": "code",
      "execution_count": null,
      "metadata": {
        "colab": {},
        "colab_type": "code",
        "id": "fpKG1M8aiC3o"
      },
      "outputs": [],
      "source": [
        "valid_images = [valid_images[idx] for idx, val in enumerate(valid_image_ranges) if val is not None]\n",
        "pinna_vals = [pinna_vals[idx] for idx, val in enumerate(valid_image_ranges) if val is not None]\n",
        "valid_image_ranges = [valid_image_ranges[idx] for idx, val in enumerate(valid_image_ranges) if val is not None]"
      ]
    },
    {
      "cell_type": "code",
      "execution_count": null,
      "metadata": {
        "colab": {
          "base_uri": "https://localhost:8080/",
          "height": 85
        },
        "colab_type": "code",
        "id": "U9ZbFMuKikpY",
        "outputId": "5bdec232-15d9-4801-ad42-18adf51ca84e"
      },
      "outputs": [],
      "source": [
        "print(len(valid_final))\n",
        "print(len(valid_images))\n",
        "print(len(valid_image_ranges))\n",
        "print(len(pinna_vals))"
      ]
    },
    {
      "cell_type": "code",
      "execution_count": null,
      "metadata": {
        "colab": {},
        "colab_type": "code",
        "id": "MJnjplmqiFwT"
      },
      "outputs": [],
      "source": [
        "impulse_vals = []\n",
        "for i, ear in valid_image_ranges:\n",
        "    impulse_vals.append(get_hrtf_sofa('data/cipic_hrtf_sofa/', i).impulses[:,ear,:])\n",
        "\n",
        "\n"
      ]
    },
    {
      "cell_type": "code",
      "execution_count": null,
      "metadata": {
        "colab": {
          "base_uri": "https://localhost:8080/",
          "height": 6562
        },
        "colab_type": "code",
        "id": "-MTWK832ialL",
        "outputId": "18fdc787-b3a5-485c-8928-669747bb9731"
      },
      "outputs": [],
      "source": [
        "print(impulse_vals)"
      ]
    },
    {
      "cell_type": "code",
      "execution_count": null,
      "metadata": {
        "colab": {
          "base_uri": "https://localhost:8080/",
          "height": 34
        },
        "colab_type": "code",
        "id": "Jdb36cHQiU9D",
        "outputId": "935cdd5c-de7f-424c-b77f-36aca8957805"
      },
      "outputs": [],
      "source": [
        "print(np.array(impulse_vals).shape)"
      ]
    },
    {
      "cell_type": "code",
      "execution_count": null,
      "metadata": {
        "colab": {
          "base_uri": "https://localhost:8080/",
          "height": 10641
        },
        "colab_type": "code",
        "id": "mA9xGJhjiYeK",
        "outputId": "6ae51911-f978-4633-9748-e9b4445663f9"
      },
      "outputs": [],
      "source": [
        "valid_images_canny = []\n",
        "for i in valid_images:\n",
        "    valid_images_canny.append(np.expand_dims(get_canny_image(i), axis=2))\n",
        "    "
      ]
    },
    {
      "cell_type": "code",
      "execution_count": null,
      "metadata": {
        "colab": {},
        "colab_type": "code",
        "id": "oEXNfayhpgCM"
      },
      "outputs": [],
      "source": [
        "elevation_vals = get_hrtf_sofa('data/cipic_hrtf_sofa/', 3).elevations\n",
        "azimuths_vals = get_hrtf_sofa('data/cipic_hrtf_sofa/', 3).azimuths"
      ]
    },
    {
      "cell_type": "code",
      "execution_count": null,
      "metadata": {
        "colab": {
          "base_uri": "https://localhost:8080/",
          "height": 34
        },
        "colab_type": "code",
        "id": "rRLiuMlApzoC",
        "outputId": "6199e179-031f-482d-a439-ccbf7b5667ce"
      },
      "outputs": [],
      "source": [
        "print(elevation_vals.shape)"
      ]
    },
    {
      "cell_type": "code",
      "execution_count": null,
      "metadata": {
        "colab": {},
        "colab_type": "code",
        "id": "P1pMAZDiozhN"
      },
      "outputs": [],
      "source": [
        "hrtf_dataset = []\n",
        "images_dataset = []\n",
        "hrtf_Y = []\n",
        "\n",
        "for idx, person in enumerate(np.array(impulse_vals)):\n",
        "    for jdx, hrtf_data in enumerate(person):\n",
        "        hrtf_dataset.append(np.hstack((elevation_vals[jdx], azimuths_vals[jdx], pinna_vals[idx])))\n",
        "        images_dataset.append(valid_images_canny[idx])\n",
        "        hrtf_Y.append(hrtf_data)"
      ]
    },
    {
      "cell_type": "code",
      "execution_count": null,
      "metadata": {
        "colab": {},
        "colab_type": "code",
        "id": "Mps_NxDeo2wg"
      },
      "outputs": [],
      "source": [
        "hrtf_dataset = np.array(hrtf_dataset)\n",
        "hrtf_Y = np.array(hrtf_Y)\n",
        "images_dataset = np.array(images_dataset)"
      ]
    },
    {
      "cell_type": "markdown",
      "metadata": {
        "colab_type": "text",
        "id": "e-UKo-37qnf4"
      },
      "source": [
        "## Train Model"
      ]
    },
    {
      "cell_type": "code",
      "execution_count": null,
      "metadata": {
        "colab": {
          "base_uri": "https://localhost:8080/",
          "height": 748
        },
        "colab_type": "code",
        "id": "NW2tgrCVqpOe",
        "outputId": "89d405db-6756-4062-f342-6ea3e20a05d4"
      },
      "outputs": [],
      "source": [
        "from keras.wrappers.scikit_learn import KerasRegressor\n",
        "from sklearn.model_selection import cross_val_score\n",
        "from sklearn.model_selection import KFold\n",
        "from sklearn.preprocessing import StandardScaler\n",
        "from sklearn.pipeline import Pipeline\n",
        "import tensorflow as tf\n",
        "import time\n",
        "import numpy as np\n",
        "from tensorflow import keras\n",
        "from sklearn.model_selection import train_test_split\n",
        "from keras.layers import Input, Embedding, LSTM, Dense, Conv2D,MaxPooling2D, Flatten, concatenate\n",
        "# from keras.models import Model\n",
        "import tensorflow as tf\n",
        "from keras import backend as K\n",
        "# from tensorflow.keras import Model\n",
        "\n",
        "def root_mean_squared_logarithmic_error(y_true, y_pred):\n",
        "    return 20*K.log(K.sqrt(K.mean(K.square(y_pred - y_true), axis=-1))) / K.log(10.0)\n",
        "    \n",
        "def get_model():\n",
        "    main_input = tf.keras.layers.Input(shape=(19,), name='main_input')\n",
        "\n",
        "    x = tf.keras.layers.Dense(64, activation='relu')(main_input)\n",
        "    x = tf.keras.layers.Dense(64, activation='relu')(x) \n",
        "    x = tf.keras.layers.Dense(64, activation='relu')(x)\n",
        "    anthro_out = tf.keras.layers.Dense(8, activation='relu')(x)\n",
        "   \n",
        "    photo_input = tf.keras.layers.Input(shape=(64,64,1), name='photo_input')\n",
        "    \n",
        "    y = tf.keras.layers.Conv2D(16, (3, 3), activation='relu')(photo_input)\n",
        "    y = tf.keras.layers.MaxPooling2D((2, 2))(y)\n",
        "    y = tf.keras.layers.Conv2D(16, (3, 3), activation='relu')(y)\n",
        "    y = tf.keras.layers.MaxPooling2D((2, 2))(y)\n",
        "    y = tf.keras.layers.Flatten()(y)\n",
        "    photo_output = tf.keras.layers.Dense(8, activation='relu')(y)\n",
        "\n",
        "    z = tf.keras.layers.concatenate([anthro_out, photo_output])\n",
        "    \n",
        "    z = tf.keras.layers.Dense(64, activation='relu')(z) \n",
        "    z = tf.keras.layers.Dense(64, activation='relu')(z) \n",
        "    z = tf.keras.layers.Dense(64, activation='relu')(z) \n",
        "    output = tf.keras.layers.Dense(200, activation='relu')(z) \n",
        "\n",
        "    return tf.keras.Model(inputs=[main_input, photo_input], outputs=[output])\n",
        "\n",
        "X_train, X_test, y_train, y_test, image_train, image_test = train_test_split(\n",
        "    hrtf_dataset, hrtf_Y, images_dataset, test_size=0.33, random_state=42)\n",
        "\n",
        "dnn_model = get_model()\n",
        "\n",
        "resolver = tf.distribute.cluster_resolver.TPUClusterResolver(tpu='grpc://' + os.environ['COLAB_TPU_ADDR'])\n",
        "tf.config.experimental_connect_to_host(resolver.master())\n",
        "tf.tpu.experimental.initialize_tpu_system(resolver)\n",
        "strategy = tf.distribute.TPUStrategy(resolver)\n",
        "\n",
        "dnn_model.compile(\n",
        "    optimizer=tf.keras.optimizers.Adagrad(learning_rate=1e-3),\n",
        "    loss=root_mean_squared_logarithmic_error,\n",
        "    metrics=[root_mean_squared_logarithmic_error, 'mean_squared_logarithmic_error', 'mse'])\n",
        "\n",
        "dnn_model.summary()\n"
      ]
    },
    {
      "cell_type": "code",
      "execution_count": null,
      "metadata": {
        "colab": {
          "base_uri": "https://localhost:8080/",
          "height": 71
        },
        "colab_type": "code",
        "id": "AGgFqzlRqq3O",
        "outputId": "db9ff02f-f4e8-4c73-c38a-e9c1148e04f6"
      },
      "outputs": [],
      "source": [
        "use_tpu = True #@param {type:\"boolean\"}\n",
        "\n",
        "if use_tpu:\n",
        "    assert 'COLAB_TPU_ADDR' in os.environ, 'Missing TPU; did you request a TPU in Notebook Settings?'\n",
        "\n",
        "if 'COLAB_TPU_ADDR' in os.environ:\n",
        "  TF_MASTER = 'grpc://{}'.format(os.environ['COLAB_TPU_ADDR'])\n",
        "else:\n",
        "  TF_MASTER=''\n",
        "\n",
        "with tf.compat.v1.Session(TF_MASTER) as session:\n",
        "  print ('List of devices:')\n",
        "  print(session.list_devices())"
      ]
    },
    {
      "cell_type": "code",
      "execution_count": null,
      "metadata": {
        "colab": {
          "base_uri": "https://localhost:8080/",
          "height": 34
        },
        "colab_type": "code",
        "id": "dFqJHrVlqvCf",
        "outputId": "15e4c2b4-ffeb-48b8-f716-4858f76cadc8"
      },
      "outputs": [],
      "source": [
        "print(X_train.shape, image_train.shape, y_train.shape)"
      ]
    },
    {
      "cell_type": "code",
      "execution_count": null,
      "metadata": {
        "colab": {
          "base_uri": "https://localhost:8080/",
          "height": 428
        },
        "colab_type": "code",
        "id": "nTDQPkH5qzy8",
        "outputId": "8fa6ae08-995c-4ed7-d89f-559ae3f09ef1"
      },
      "outputs": [],
      "source": [
        "history = dnn_model.fit(\n",
        "  [X_train,image_train], y_train,\n",
        "  validation_split = 0.2,\n",
        "  steps_per_epoch = 100,\n",
        "  validation_steps=50,\n",
        "  epochs=5,\n",
        "  shuffle=True\n",
        ")"
      ]
    },
    {
      "cell_type": "code",
      "execution_count": null,
      "metadata": {
        "colab": {
          "base_uri": "https://localhost:8080/",
          "height": 364
        },
        "colab_type": "code",
        "id": "B3Q3CL04wL8i",
        "outputId": "cac7090e-d54f-43b2-d92c-3e32b3f0b940"
      },
      "outputs": [],
      "source": [
        "plt.plot(history.history['mse'])"
      ]
    },
    {
      "cell_type": "code",
      "execution_count": null,
      "metadata": {
        "colab": {
          "base_uri": "https://localhost:8080/",
          "height": 364
        },
        "colab_type": "code",
        "id": "uqBqwFkeSd7m",
        "outputId": "47121481-d77d-403f-98d4-b11d8b12d191"
      },
      "outputs": [],
      "source": [
        "plt.plot(history.history['root_mean_squared_logarithmic_error'])"
      ]
    },
    {
      "cell_type": "code",
      "execution_count": null,
      "metadata": {
        "colab": {
          "base_uri": "https://localhost:8080/",
          "height": 102
        },
        "colab_type": "code",
        "id": "r6Xfh0Tpq8B8",
        "outputId": "c548a961-664e-4d59-ad7e-ce16acab93f2"
      },
      "outputs": [],
      "source": [
        "dnn_model.evaluate([X_test,image_test], y_test,\n",
        "    steps = 50, verbose=1)\n"
      ]
    },
    {
      "cell_type": "code",
      "execution_count": null,
      "metadata": {
        "colab": {},
        "colab_type": "code",
        "id": "sL914PI2aYaw"
      },
      "outputs": [],
      "source": [
        "dnn_model.save_weights('./hrtf_tpu.h5', overwrite=True)"
      ]
    },
    {
      "cell_type": "markdown",
      "metadata": {
        "colab_type": "text",
        "id": "CzHBQ_HjWwx3"
      },
      "source": [
        "## Predict"
      ]
    },
    {
      "cell_type": "code",
      "execution_count": null,
      "metadata": {
        "colab": {
          "base_uri": "https://localhost:8080/",
          "height": 68
        },
        "colab_type": "code",
        "id": "lqQXN0lzWyoF",
        "outputId": "953f4d24-4abe-42a3-cd0a-f9858c865dbe"
      },
      "outputs": [],
      "source": [
        "!ls"
      ]
    },
    {
      "cell_type": "code",
      "execution_count": null,
      "metadata": {
        "colab": {},
        "colab_type": "code",
        "id": "Fpz6wVqeXq4_"
      },
      "outputs": [],
      "source": [
        "#Enter 17 Measurements Here\n",
        "anthro = np.array([\n",
        "    11.310303, # 01) head width\n",
        "    24.104653, # 02) head height\n",
        "    24.290701, # 03) head depth\n",
        "    7.894130,  # 04) pinna offset down\n",
        "    7.961877,  # 05) pinna offset back\n",
        "    7.879897,  # 06) neck width\n",
        "    8.825650,  # 07) neck height\n",
        "    13.574393, # 08) neck depth\n",
        "    26.341024, # 09) torso top width\n",
        "    13.106498, # 10) torso top height\n",
        "    22.631457, # 11) torso top depth\n",
        "    25.762224, # 12) shoulder width\n",
        "    6.325874,  # 13) head offset forward\n",
        "    170.780,   # 14) height\n",
        "    127.000,   # 15) seated height\n",
        "    55.88,     # 16) head circumference\n",
        "    40.64      # 17) shoulder circumference\n",
        "])\n",
        "\n",
        "canny_image = np.array([np.expand_dims(get_canny_image(plt.imread('ear_image.jpg')), axis=2)])"
      ]
    },
    {
      "cell_type": "code",
      "execution_count": null,
      "metadata": {
        "colab": {},
        "colab_type": "code",
        "id": "K1yRKfwyW9T8"
      },
      "outputs": [],
      "source": [
        "dnn_model.load_weights('hrtf_tpu.h5')\n",
        "final_impulses = []\n",
        "for i in range(len(hrtf.elevations)):\n",
        "    # Keras docs: https://keras.io/api/models/model_training_apis/#predict-method\n",
        "    # Keras layers explanation: https://wandb.ai/ayush-thakur/dl-question-bank/reports/Keras-Layer-Input-Explanation-With-Code-Samples--VmlldzoyMDIzMDU\n",
        "    main_input = np.hstack((anthro, hrtf.elevations[i], hrtf.azimuths[i])) # makes main_input be in shape (19,).\n",
        "    main_input = np.expand_dims(main_input, axis=0) # main_input needs to be in shape (1, 19), so add a dimension before passing it to `predict`.\n",
        "    impulse = dnn_model.predict_on_batch([main_input, canny_image])[0]\n",
        "    final_impulses.append([impulse, impulse]) # assumes left ear is same as right ear"
      ]
    },
    {
      "cell_type": "code",
      "execution_count": null,
      "metadata": {
        "colab": {},
        "colab_type": "code",
        "id": "C1Bii1ebYO9W"
      },
      "outputs": [],
      "source": [
        "elevations, azimuths = interauralPolarToVerticalPolarCoordinates(hrtf.elevations, hrtf.azimuths)\n",
        "create_cipic_hrtf('data/template.sofa', 'data/predict.sofa', final_impulses, hrtf.elevations, hrtf.azimuths)"
      ]
    },
    {
      "cell_type": "code",
      "execution_count": null,
      "metadata": {
        "colab": {},
        "colab_type": "code",
        "id": "M2pob-NoY9yK"
      },
      "outputs": [],
      "source": [
        "from google.colab import files\n",
        "files.download('data/predict.sofa')"
      ]
    }
  ],
  "metadata": {
    "accelerator": "TPU",
    "colab": {
      "collapsed_sections": [
        "raR-9dV9gZEQ"
      ],
      "name": "FinalHRTFCNN.ipynb",
      "provenance": [],
      "version": "0.3.2"
    },
    "kernelspec": {
      "display_name": "Python 3",
      "language": "python",
      "name": "python3"
    },
    "language_info": {
      "name": "python",
      "version": "3.10.0 (default, Nov  4 2021, 19:10:30) [Clang 12.0.5 (clang-1205.0.22.11)]"
    },
    "vscode": {
      "interpreter": {
        "hash": "d87e9ce37129769256721683d9f7f70005d6d87f81c2347a4ab90b3b3ab0c979"
      }
    }
  },
  "nbformat": 4,
  "nbformat_minor": 0
}
